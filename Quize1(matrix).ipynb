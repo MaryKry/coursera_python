{
 "cells": [
  {
   "cell_type": "code",
   "execution_count": 3,
   "id": "maritime-mongolia",
   "metadata": {},
   "outputs": [
    {
     "name": "stdout",
     "output_type": "stream",
     "text": [
      "Requirement already satisfied: numpy in c:\\programdata\\anaconda3\\envs\\coursera_ds\\lib\\site-packages (1.20.1)\n"
     ]
    },
    {
     "data": {
      "text/plain": [
       "10"
      ]
     },
     "execution_count": 3,
     "metadata": {},
     "output_type": "execute_result"
    }
   ],
   "source": [
    "!pip install numpy\n",
    "import numpy as np\n",
    "a=np.array([1,1,1,1,1])\n",
    "b=np.array([2,2,2,2,2])\n",
    "np.sum(a*b)"
   ]
  },
  {
   "cell_type": "code",
   "execution_count": 5,
   "id": "assumed-category",
   "metadata": {},
   "outputs": [
    {
     "data": {
      "text/plain": [
       "array([[47, 37, 50, 13],\n",
       "       [32, 45, 58, 13],\n",
       "       [41, 25, 29,  4]])"
      ]
     },
     "execution_count": 5,
     "metadata": {},
     "output_type": "execute_result"
    }
   ],
   "source": [
    "import numpy as np\n",
    "a=np.array([[0,9,19,13],[1,20,5,13],[12,11,3,4]])\n",
    "b=np.array([[2,0,0,0],[1,2,2,0],[2,1,1,0],[0,0,1,1]])\n",
    "np.dot(a,b)"
   ]
  },
  {
   "cell_type": "code",
   "execution_count": 6,
   "id": "composite-bankruptcy",
   "metadata": {},
   "outputs": [
    {
     "data": {
      "text/plain": [
       "4.875"
      ]
     },
     "execution_count": 6,
     "metadata": {},
     "output_type": "execute_result"
    }
   ],
   "source": [
    "a=np.array([[-1,33,4,1],[0,1,1,0]])\n",
    "np.mean(a)"
   ]
  },
  {
   "cell_type": "code",
   "execution_count": 7,
   "id": "rapid-siemens",
   "metadata": {},
   "outputs": [
    {
     "name": "stdout",
     "output_type": "stream",
     "text": [
      "Collecting scipy\n",
      "  Downloading scipy-1.6.1-cp38-cp38-win_amd64.whl (32.7 MB)\n",
      "Requirement already satisfied: numpy>=1.16.5 in c:\\programdata\\anaconda3\\envs\\coursera_ds\\lib\\site-packages (from scipy) (1.20.1)\n",
      "Installing collected packages: scipy\n",
      "Successfully installed scipy-1.6.1\n"
     ]
    }
   ],
   "source": [
    "!pip install scipy\n"
   ]
  },
  {
   "cell_type": "code",
   "execution_count": 20,
   "id": "knowing-hybrid",
   "metadata": {},
   "outputs": [
    {
     "data": {
      "text/plain": [
       "0.0"
      ]
     },
     "execution_count": 20,
     "metadata": {},
     "output_type": "execute_result"
    }
   ],
   "source": [
    "import scipy as sc\n",
    "from scipy import linalg\n",
    "a=np.array([[6,0,3],[0,-1,2],[12,3,0]])\n",
    "linalg.det(a)"
   ]
  },
  {
   "cell_type": "code",
   "execution_count": 21,
   "id": "advised-rings",
   "metadata": {},
   "outputs": [
    {
     "data": {
      "text/plain": [
       "(array([ 9.86545993e+00+0.j,  6.66242235e-17+0.j, -4.86545993e+00+0.j]),\n",
       " array([[-0.60673536, -0.21821789, -0.23816795],\n",
       "        [-0.1439001 ,  0.87287156, -0.44631244],\n",
       "        [-0.7817704 ,  0.43643578,  0.86260143]]))"
      ]
     },
     "execution_count": 21,
     "metadata": {},
     "output_type": "execute_result"
    }
   ],
   "source": [
    "linalg.eig(a)"
   ]
  },
  {
   "cell_type": "code",
   "execution_count": 22,
   "id": "considered-footage",
   "metadata": {},
   "outputs": [
    {
     "data": {
      "text/plain": [
       "(array([-1.+0.j,  1.+0.j,  3.+0.j,  3.+0.j]),\n",
       " array([[ 5.00000000e-01,  7.07106781e-01,  5.00000000e-01,\n",
       "         -8.70388280e-02],\n",
       "        [ 5.00000000e-01, -1.56125113e-17, -5.00000000e-01,\n",
       "         -6.09271796e-01],\n",
       "        [ 5.00000000e-01,  1.50920942e-16, -5.00000000e-01,\n",
       "          7.83349452e-01],\n",
       "        [ 5.00000000e-01, -7.07106781e-01,  5.00000000e-01,\n",
       "         -8.70388280e-02]]))"
      ]
     },
     "execution_count": 22,
     "metadata": {},
     "output_type": "execute_result"
    }
   ],
   "source": [
    "a=np.array([[1,-1,-1,0],[-1,2,-1,-1],[-1,-1,2,-1],[0,-1,-1,1]])\n",
    "linalg.eig(a)"
   ]
  },
  {
   "cell_type": "code",
   "execution_count": 25,
   "id": "chubby-point",
   "metadata": {},
   "outputs": [
    {
     "data": {
      "text/plain": [
       "array([[-0.6 ,  0.4 ,  1.6 , -0.6 , -0.1 ],\n",
       "       [ 0.9 , -0.6 , -1.9 ,  0.4 ,  0.65],\n",
       "       [-1.7 ,  1.8 ,  2.7 , -0.2 , -1.45],\n",
       "       [-0.7 ,  0.8 ,  1.7 , -0.2 , -0.95],\n",
       "       [ 1.4 , -1.6 , -2.4 ,  0.4 ,  1.4 ]])"
      ]
     },
     "execution_count": 25,
     "metadata": {},
     "output_type": "execute_result"
    }
   ],
   "source": [
    "a=np.array([[2,4,0,4,1],[2,4,1,1,0],[1,1,1,2,2],[0,1,3,2,4],[2,2,2,0,2]])\n",
    "linalg.inv(a)"
   ]
  },
  {
   "cell_type": "code",
   "execution_count": 27,
   "id": "vital-camera",
   "metadata": {},
   "outputs": [
    {
     "data": {
      "text/plain": [
       "2.700000000000001"
      ]
     },
     "execution_count": 27,
     "metadata": {},
     "output_type": "execute_result"
    }
   ],
   "source": [
    "np.trace(linalg.inv(a))"
   ]
  },
  {
   "cell_type": "code",
   "execution_count": null,
   "id": "norwegian-cigarette",
   "metadata": {},
   "outputs": [],
   "source": []
  }
 ],
 "metadata": {
  "kernelspec": {
   "display_name": "Python 3",
   "language": "python",
   "name": "python3"
  },
  "language_info": {
   "codemirror_mode": {
    "name": "ipython",
    "version": 3
   },
   "file_extension": ".py",
   "mimetype": "text/x-python",
   "name": "python",
   "nbconvert_exporter": "python",
   "pygments_lexer": "ipython3",
   "version": "3.8.8"
  }
 },
 "nbformat": 4,
 "nbformat_minor": 5
}
