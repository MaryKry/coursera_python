{
 "cells": [
  {
   "cell_type": "code",
   "execution_count": 1,
   "metadata": {},
   "outputs": [],
   "source": [
    "from sklearn.datasets import load_diabetes\n",
    "from sklearn.linear_model import Lasso\n",
    "from sklearn.model_selection import train_test_split\n",
    "from sklearn.metrics import mean_squared_error\n",
    "from sklearn.linear_model import LinearRegression\n",
    "import numpy as np\n",
    "\n",
    "diabetes = load_diabetes()\n",
    "X_train, X_test, y_train, y_test = train_test_split(diabetes.data, diabetes.target, random_state=54, test_size=0.33)"
   ]
  },
  {
   "cell_type": "code",
   "execution_count": 7,
   "metadata": {},
   "outputs": [
    {
     "data": {
      "text/plain": [
       "array([[ 0.08166637, -0.04464164,  0.03367309, ...,  0.03430886,\n",
       "         0.03486419,  0.06933812],\n",
       "       [-0.00914709, -0.04464164, -0.05686312, ...,  0.03430886,\n",
       "        -0.00991896, -0.01764613],\n",
       "       [ 0.01628068, -0.04464164,  0.01750591, ..., -0.00259226,\n",
       "         0.03723201, -0.0010777 ],\n",
       "       ...,\n",
       "       [-0.00188202, -0.04464164, -0.06656343, ..., -0.00259226,\n",
       "        -0.02028875, -0.02593034],\n",
       "       [-0.04183994,  0.05068012,  0.01427248, ...,  0.07120998,\n",
       "         0.03546194, -0.01350402],\n",
       "       [ 0.04170844, -0.04464164, -0.00836158, ..., -0.0763945 ,\n",
       "        -0.08023654, -0.01764613]])"
      ]
     },
     "execution_count": 7,
     "metadata": {},
     "output_type": "execute_result"
    }
   ],
   "source": [
    "X_test"
   ]
  },
  {
   "cell_type": "code",
   "execution_count": 36,
   "metadata": {},
   "outputs": [
    {
     "data": {
      "text/plain": [
       "3075.576"
      ]
     },
     "execution_count": 36,
     "metadata": {},
     "output_type": "execute_result"
    }
   ],
   "source": [
    "coefi=[]#alpha\n",
    "mserrs=[]#mse errors\n",
    "\n",
    "for alpha in np.linspace(0.1,0.9,10):\n",
    "    model1 = Lasso(random_state=42,alpha=alpha)\n",
    "   # print(alpha)\n",
    "    model1.fit(X_train, y_train)\n",
    "   # print(model1.get_params())\n",
    "    y_pr=model1.predict(X_test)\n",
    "    mse=mean_squared_error(y_test,y_pr)\n",
    "    mserrs.append(mse)\n",
    "    coefi.append(alpha)\n",
    "index=np.array(mserrs).argmin();\n",
    "l=coefi[index]\n",
    "res=round(mserrs[index],3)\n",
    "res"
   ]
  },
  {
   "cell_type": "code",
   "execution_count": 37,
   "metadata": {},
   "outputs": [
    {
     "data": {
      "text/plain": [
       "3015.288"
      ]
     },
     "execution_count": 37,
     "metadata": {},
     "output_type": "execute_result"
    }
   ],
   "source": [
    "model2=LinearRegression()\n",
    "model2.fit(X_train,y_train)\n",
    "y_pred=model2.predict(X_test)\n",
    "mse2=mean_squared_error(y_pred,y_test)\n",
    "answer5=round(mse2,3)\n",
    "answer5"
   ]
  },
  {
   "cell_type": "code",
   "execution_count": 38,
   "metadata": {},
   "outputs": [
    {
     "data": {
      "text/plain": [
       "Text(0.5, 1.0, 'MSE(aplha)')"
      ]
     },
     "execution_count": 38,
     "metadata": {},
     "output_type": "execute_result"
    },
    {
     "data": {
      "image/png": "[encoded data removed]",
      "text/plain": [
       "<Figure size 432x288 with 1 Axes>"
      ]
     },
     "metadata": {
      "needs_background": "light"
     },
     "output_type": "display_data"
    }
   ],
   "source": [
    "from matplotlib import pyplot as plt\n",
    "\n",
    "plt.figure(figsize=(6,4))\n",
    "plt.plot(coefi, mserrs,'--o')\n",
    "plt.xlabel('Alpha', fontdict={'fontsize':15}, color='green')\n",
    "plt.ylabel('MSE', fontdict={'fontsize':15},color='red')\n",
    "plt.title('MSE(aplha)', fontdict={'fontsize':15})\n"
   ]
  },
  {
   "cell_type": "code",
   "execution_count": null,
   "metadata": {},
   "outputs": [],
   "source": []
  }
 ],
 "metadata": {
  "kernelspec": {
   "display_name": "Python 3",
   "language": "python",
   "name": "python3"
  },
  "language_info": {
   "codemirror_mode": {
    "name": "ipython",
    "version": 3
   },
   "file_extension": ".py",
   "mimetype": "text/x-python",
   "name": "python",
   "nbconvert_exporter": "python",
   "pygments_lexer": "ipython3",
   "version": "3.8.5"
  }
 },
 "nbformat": 4,
 "nbformat_minor": 4
}
